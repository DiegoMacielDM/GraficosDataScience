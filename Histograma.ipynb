{
  "nbformat": 4,
  "nbformat_minor": 0,
  "metadata": {
    "colab": {
      "name": "Histograma.ipynb",
      "provenance": [],
      "authorship_tag": "ABX9TyPOCkQEB9eXBQ/Ra61WcjCh",
      "include_colab_link": true
    },
    "kernelspec": {
      "name": "python3",
      "display_name": "Python 3"
    },
    "language_info": {
      "name": "python"
    }
  },
  "cells": [
    {
      "cell_type": "markdown",
      "metadata": {
        "id": "view-in-github",
        "colab_type": "text"
      },
      "source": [
        "<a href=\"https://colab.research.google.com/github/DiegoMacielDM/GraficosDataScience/blob/main/Histograma.ipynb\" target=\"_parent\"><img src=\"https://colab.research.google.com/assets/colab-badge.svg\" alt=\"Open In Colab\"/></a>"
      ]
    },
    {
      "cell_type": "code",
      "metadata": {
        "id": "Xp_clMq_E9kx"
      },
      "source": [
        "#Importando as bibliotecas pandas e matplotlib do Python\n",
        "import pandas as pd\n",
        "import matplotlib.pyplot as plt"
      ],
      "execution_count": 2,
      "outputs": []
    },
    {
      "cell_type": "code",
      "metadata": {
        "colab": {
          "base_uri": "https://localhost:8080/",
          "height": 235
        },
        "id": "1o3V7T6oFqpn",
        "outputId": "019b3079-4ca5-4d01-e992-3073dc2a1404"
      },
      "source": [
        "# importar dados para DataFrame\n",
        "df = pd.read_csv(\"https://raw.githubusercontent.com/carlosfab/curso_data_science_na_pratica/master/modulo_03/dengue-dataset.csv\", index_col=\"data\", parse_dates=True)\n",
        "\n",
        "# ver as 5 primeiras entradas\n",
        "df.head()"
      ],
      "execution_count": 4,
      "outputs": [
        {
          "output_type": "execute_result",
          "data": {
            "text/html": [
              "<div>\n",
              "<style scoped>\n",
              "    .dataframe tbody tr th:only-of-type {\n",
              "        vertical-align: middle;\n",
              "    }\n",
              "\n",
              "    .dataframe tbody tr th {\n",
              "        vertical-align: top;\n",
              "    }\n",
              "\n",
              "    .dataframe thead th {\n",
              "        text-align: right;\n",
              "    }\n",
              "</style>\n",
              "<table border=\"1\" class=\"dataframe\">\n",
              "  <thead>\n",
              "    <tr style=\"text-align: right;\">\n",
              "      <th></th>\n",
              "      <th>casos-confirmados</th>\n",
              "      <th>chuva</th>\n",
              "      <th>temperatura-media</th>\n",
              "      <th>temperatura-mininima</th>\n",
              "      <th>temperatura-maxima</th>\n",
              "    </tr>\n",
              "    <tr>\n",
              "      <th>data</th>\n",
              "      <th></th>\n",
              "      <th></th>\n",
              "      <th></th>\n",
              "      <th></th>\n",
              "      <th></th>\n",
              "    </tr>\n",
              "  </thead>\n",
              "  <tbody>\n",
              "    <tr>\n",
              "      <th>1998-01-01</th>\n",
              "      <td>237</td>\n",
              "      <td>179.2</td>\n",
              "      <td>25.7</td>\n",
              "      <td>20.2</td>\n",
              "      <td>28.1</td>\n",
              "    </tr>\n",
              "    <tr>\n",
              "      <th>1998-02-01</th>\n",
              "      <td>331</td>\n",
              "      <td>226.3</td>\n",
              "      <td>25.1</td>\n",
              "      <td>20.0</td>\n",
              "      <td>28.0</td>\n",
              "    </tr>\n",
              "    <tr>\n",
              "      <th>1998-03-01</th>\n",
              "      <td>562</td>\n",
              "      <td>149.1</td>\n",
              "      <td>24.8</td>\n",
              "      <td>22.4</td>\n",
              "      <td>27.2</td>\n",
              "    </tr>\n",
              "    <tr>\n",
              "      <th>1998-04-01</th>\n",
              "      <td>187</td>\n",
              "      <td>46.4</td>\n",
              "      <td>22.7</td>\n",
              "      <td>18.1</td>\n",
              "      <td>26.0</td>\n",
              "    </tr>\n",
              "    <tr>\n",
              "      <th>1998-05-01</th>\n",
              "      <td>32</td>\n",
              "      <td>88.3</td>\n",
              "      <td>19.2</td>\n",
              "      <td>15.7</td>\n",
              "      <td>22.9</td>\n",
              "    </tr>\n",
              "  </tbody>\n",
              "</table>\n",
              "</div>"
            ],
            "text/plain": [
              "            casos-confirmados  chuva  ...  temperatura-mininima  temperatura-maxima\n",
              "data                                  ...                                          \n",
              "1998-01-01                237  179.2  ...                  20.2                28.1\n",
              "1998-02-01                331  226.3  ...                  20.0                28.0\n",
              "1998-03-01                562  149.1  ...                  22.4                27.2\n",
              "1998-04-01                187   46.4  ...                  18.1                26.0\n",
              "1998-05-01                 32   88.3  ...                  15.7                22.9\n",
              "\n",
              "[5 rows x 5 columns]"
            ]
          },
          "metadata": {},
          "execution_count": 4
        }
      ]
    },
    {
      "cell_type": "code",
      "metadata": {
        "colab": {
          "base_uri": "https://localhost:8080/",
          "height": 297
        },
        "id": "ac7--HvpF_8l",
        "outputId": "3ffdb6dc-59f7-4156-f6e2-3bff5f905766"
      },
      "source": [
        "#Plotar o histograma da temperatura média\n",
        "fig, ax = plt.subplots()\n",
        "\n",
        "#Informando quais dados serão plotados\n",
        "df[\"temperatura-media\"].plot(kind=\"hist\", ax=ax);\n",
        "#Colocando o titulo \n",
        "ax.set_title(\"histograma da temperatura média\")\n",
        "#Colocando o titulo de X\n",
        "ax.set_xlabel(\"Temperatura\")\n",
        "#Colocando o titulo de Y\n",
        "ax.set_ylabel(\"Quantiodade de ocorrências\")\n",
        "\n",
        "#Mostrando o gráfico\n",
        "plt.tight_layout();\n"
      ],
      "execution_count": 7,
      "outputs": [
        {
          "output_type": "display_data",
          "data": {
            "image/png": "[encoded data removed]",
            "text/plain": [
              "<Figure size 432x288 with 1 Axes>"
            ]
          },
          "metadata": {
            "needs_background": "light"
          }
        }
      ]
    },
    {
      "cell_type": "code",
      "metadata": {
        "colab": {
          "base_uri": "https://localhost:8080/",
          "height": 297
        },
        "id": "QQicII6lHYxj",
        "outputId": "11126ea8-d0d6-46c2-bb1b-1c887d60d7d7"
      },
      "source": [
        "#Plotar o histograma da temperatura média\n",
        "fig, ax = plt.subplots()\n",
        "\n",
        "#Informando quais dados serão plotados\n",
        "df[\"temperatura-media\"].plot(kind=\"hist\", ax=ax, density=True, bins=30);\n",
        "#Colocando o titulo \n",
        "ax.set_title(\"histograma da temperatura média\")\n",
        "#Colocando o titulo de X\n",
        "ax.set_xlabel(\"Temperatura\")\n",
        "#Colocando o titulo de Y\n",
        "ax.set_ylabel(\"Densidade de ocorrências\")\n",
        "\n",
        "#Mostrando o gráfico\n",
        "plt.tight_layout();"
      ],
      "execution_count": 10,
      "outputs": [
        {
          "output_type": "display_data",
          "data": {
            "image/png": "[encoded data removed]",
            "text/plain": [
              "<Figure size 432x288 with 1 Axes>"
            ]
          },
          "metadata": {
            "needs_background": "light"
          }
        }
      ]
    },
    {
      "cell_type": "code",
      "metadata": {
        "colab": {
          "base_uri": "https://localhost:8080/",
          "height": 297
        },
        "id": "NdSpovc6IRF4",
        "outputId": "6dada7ea-bf2c-4887-f107-55c835a9f8bf"
      },
      "source": [
        "#importando o Numpy para corrigir a marcação dos números abaixo\n",
        "import numpy as np\n",
        "count, bin_edges = np.histogram(df[\"temperatura-media\"])\n",
        "\n",
        "#Plotar o histograma da temperatura média\n",
        "fig, ax = plt.subplots()\n",
        "\n",
        "#Informando quais dados serão plotados\n",
        "df[\"temperatura-media\"].plot(kind=\"hist\", ax=ax, density=True, xticks=bin_edges);\n",
        "#Colocando o titulo \n",
        "ax.set_title(\"histograma da temperatura média\")\n",
        "#Colocando o titulo de X\n",
        "ax.set_xlabel(\"Temperatura\")\n",
        "#Colocando o titulo de Y\n",
        "ax.set_ylabel(\"Densidade de ocorrências\")\n",
        "\n",
        "#Mostrando o gráfico\n",
        "plt.tight_layout();\n"
      ],
      "execution_count": 12,
      "outputs": [
        {
          "output_type": "display_data",
          "data": {
            "image/png": "[encoded data removed]",
            "text/plain": [
              "<Figure size 432x288 with 1 Axes>"
            ]
          },
          "metadata": {
            "needs_background": "light"
          }
        }
      ]
    },
    {
      "cell_type": "code",
      "metadata": {
        "id": "L2z70CA6IpbQ"
      },
      "source": [
        ""
      ],
      "execution_count": null,
      "outputs": []
    }
  ]
}