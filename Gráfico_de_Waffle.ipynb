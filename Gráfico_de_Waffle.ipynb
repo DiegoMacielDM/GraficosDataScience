{
  "nbformat": 4,
  "nbformat_minor": 0,
  "metadata": {
    "colab": {
      "name": "Gráfico-de-Waffle.ipynb",
      "provenance": [],
      "authorship_tag": "ABX9TyOgoqM0lSeVMYvHTYxN22Zo",
      "include_colab_link": true
    },
    "kernelspec": {
      "name": "python3",
      "display_name": "Python 3"
    },
    "language_info": {
      "name": "python"
    }
  },
  "cells": [
    {
      "cell_type": "markdown",
      "metadata": {
        "id": "view-in-github",
        "colab_type": "text"
      },
      "source": [
        "<a href=\"https://colab.research.google.com/github/DiegoMacielDM/GraficosDataScience/blob/main/Gr%C3%A1fico_de_Waffle.ipynb\" target=\"_parent\"><img src=\"https://colab.research.google.com/assets/colab-badge.svg\" alt=\"Open In Colab\"/></a>"
      ]
    },
    {
      "cell_type": "markdown",
      "metadata": {
        "id": "gW_mMZeWP3DY"
      },
      "source": [
        "## **Gráfico de Waffle**"
      ]
    },
    {
      "cell_type": "code",
      "metadata": {
        "colab": {
          "base_uri": "https://localhost:8080/"
        },
        "id": "--gbq5MrQXm1",
        "outputId": "d98e9845-3dc0-43f8-ebb5-35e71151f912"
      },
      "source": [
        "\n",
        "# instalar o pywaffle\n",
        "!pip install pywaffle -q"
      ],
      "execution_count": 2,
      "outputs": [
        {
          "output_type": "stream",
          "name": "stdout",
          "text": [
            "\u001b[?25l\r\u001b[K     |▋                               | 10 kB 23.6 MB/s eta 0:00:01\r\u001b[K     |█▎                              | 20 kB 26.6 MB/s eta 0:00:01\r\u001b[K     |█▉                              | 30 kB 11.8 MB/s eta 0:00:01\r\u001b[K     |██▌                             | 40 kB 9.1 MB/s eta 0:00:01\r\u001b[K     |███                             | 51 kB 5.2 MB/s eta 0:00:01\r\u001b[K     |███▊                            | 61 kB 5.7 MB/s eta 0:00:01\r\u001b[K     |████▍                           | 71 kB 5.5 MB/s eta 0:00:01\r\u001b[K     |█████                           | 81 kB 6.2 MB/s eta 0:00:01\r\u001b[K     |█████▋                          | 92 kB 4.7 MB/s eta 0:00:01\r\u001b[K     |██████▏                         | 102 kB 5.0 MB/s eta 0:00:01\r\u001b[K     |██████▉                         | 112 kB 5.0 MB/s eta 0:00:01\r\u001b[K     |███████▌                        | 122 kB 5.0 MB/s eta 0:00:01\r\u001b[K     |████████                        | 133 kB 5.0 MB/s eta 0:00:01\r\u001b[K     |████████▊                       | 143 kB 5.0 MB/s eta 0:00:01\r\u001b[K     |█████████▎                      | 153 kB 5.0 MB/s eta 0:00:01\r\u001b[K     |██████████                      | 163 kB 5.0 MB/s eta 0:00:01\r\u001b[K     |██████████▋                     | 174 kB 5.0 MB/s eta 0:00:01\r\u001b[K     |███████████▏                    | 184 kB 5.0 MB/s eta 0:00:01\r\u001b[K     |███████████▉                    | 194 kB 5.0 MB/s eta 0:00:01\r\u001b[K     |████████████▍                   | 204 kB 5.0 MB/s eta 0:00:01\r\u001b[K     |█████████████                   | 215 kB 5.0 MB/s eta 0:00:01\r\u001b[K     |█████████████▊                  | 225 kB 5.0 MB/s eta 0:00:01\r\u001b[K     |██████████████▎                 | 235 kB 5.0 MB/s eta 0:00:01\r\u001b[K     |███████████████                 | 245 kB 5.0 MB/s eta 0:00:01\r\u001b[K     |███████████████▌                | 256 kB 5.0 MB/s eta 0:00:01\r\u001b[K     |████████████████▏               | 266 kB 5.0 MB/s eta 0:00:01\r\u001b[K     |████████████████▉               | 276 kB 5.0 MB/s eta 0:00:01\r\u001b[K     |█████████████████▍              | 286 kB 5.0 MB/s eta 0:00:01\r\u001b[K     |██████████████████              | 296 kB 5.0 MB/s eta 0:00:01\r\u001b[K     |██████████████████▋             | 307 kB 5.0 MB/s eta 0:00:01\r\u001b[K     |███████████████████▎            | 317 kB 5.0 MB/s eta 0:00:01\r\u001b[K     |████████████████████            | 327 kB 5.0 MB/s eta 0:00:01\r\u001b[K     |████████████████████▌           | 337 kB 5.0 MB/s eta 0:00:01\r\u001b[K     |█████████████████████▏          | 348 kB 5.0 MB/s eta 0:00:01\r\u001b[K     |█████████████████████▊          | 358 kB 5.0 MB/s eta 0:00:01\r\u001b[K     |██████████████████████▍         | 368 kB 5.0 MB/s eta 0:00:01\r\u001b[K     |███████████████████████         | 378 kB 5.0 MB/s eta 0:00:01\r\u001b[K     |███████████████████████▋        | 389 kB 5.0 MB/s eta 0:00:01\r\u001b[K     |████████████████████████▎       | 399 kB 5.0 MB/s eta 0:00:01\r\u001b[K     |████████████████████████▉       | 409 kB 5.0 MB/s eta 0:00:01\r\u001b[K     |█████████████████████████▌      | 419 kB 5.0 MB/s eta 0:00:01\r\u001b[K     |██████████████████████████▏     | 430 kB 5.0 MB/s eta 0:00:01\r\u001b[K     |██████████████████████████▊     | 440 kB 5.0 MB/s eta 0:00:01\r\u001b[K     |███████████████████████████▍    | 450 kB 5.0 MB/s eta 0:00:01\r\u001b[K     |████████████████████████████    | 460 kB 5.0 MB/s eta 0:00:01\r\u001b[K     |████████████████████████████▋   | 471 kB 5.0 MB/s eta 0:00:01\r\u001b[K     |█████████████████████████████▎  | 481 kB 5.0 MB/s eta 0:00:01\r\u001b[K     |█████████████████████████████▉  | 491 kB 5.0 MB/s eta 0:00:01\r\u001b[K     |██████████████████████████████▌ | 501 kB 5.0 MB/s eta 0:00:01\r\u001b[K     |███████████████████████████████ | 512 kB 5.0 MB/s eta 0:00:01\r\u001b[K     |███████████████████████████████▊| 522 kB 5.0 MB/s eta 0:00:01\r\u001b[K     |████████████████████████████████| 526 kB 5.0 MB/s \n",
            "\u001b[?25h"
          ]
        }
      ]
    },
    {
      "cell_type": "code",
      "metadata": {
        "id": "A1kOf0jTP5Re"
      },
      "source": [
        "#Importando as bibliotecas pywaffle e matplotlib do Python\n",
        "import matplotlib.pyplot as plt\n",
        "from pywaffle import Waffle"
      ],
      "execution_count": 3,
      "outputs": []
    },
    {
      "cell_type": "markdown",
      "metadata": {
        "id": "iqdyHXaXQvvk"
      },
      "source": [
        "\n",
        "Vamos supor que uma pesquisa muito séria da Folha de São Paulo identificou que 33% dos brasileiros falam Bolacha, 48% falam Biscoito e uma minoria de 19% fala Salgadinho.\n",
        "\n",
        "No lugar de plotar um manjado gráfico de pizza, olha como ficaria usando o gráfico de waffle."
      ]
    },
    {
      "cell_type": "code",
      "metadata": {
        "colab": {
          "base_uri": "https://localhost:8080/",
          "height": 161
        },
        "id": "_YwF1GMYQr5U",
        "outputId": "1385acb4-d119-464e-8ded-93bc9279cb8b"
      },
      "source": [
        "# exemplo de Waffle\n",
        "fig = plt.figure(\n",
        "                FigureClass=Waffle,\n",
        "                rows=4,\n",
        "                columns=10,\n",
        "                values={'Bolacha': 33,\n",
        "                        'Biscoito': 48,\n",
        "                        'Salgadinho': 19},\n",
        "                legend={'loc': 'upper left',\n",
        "                        'bbox_to_anchor': (1.1, 1)}\n",
        "                )\n",
        "\n",
        "fig.set_tight_layout(False)\n",
        "plt.show()"
      ],
      "execution_count": 4,
      "outputs": [
        {
          "output_type": "display_data",
          "data": {
            "image/png": "[encoded data removed]",
            "text/plain": [
              "<Waffle size 432x288 with 1 Axes>"
            ]
          },
          "metadata": {
            "needs_background": "light"
          }
        }
      ]
    },
    {
      "cell_type": "markdown",
      "metadata": {
        "id": "3d3vmpM8RU_j"
      },
      "source": [
        "## **Customizando seus gráficos de waffle**\n",
        "O pywaffle é altamente customizado e aceita os ícones da Font Awesome.\n",
        "\n",
        "Vamos ver como customizar os ícones da biblioteca para representar as estatísticas de ocorrências e acidentes com aviões no Brasil. Para isso, vou importar a base de dados do Centro de Prevenção e Investigação de Acidentes Aeronáuticos."
      ]
    },
    {
      "cell_type": "code",
      "metadata": {
        "colab": {
          "base_uri": "https://localhost:8080/",
          "height": 141
        },
        "id": "FJyY56MrRXSD",
        "outputId": "3ad79e75-22f3-4f7b-a15c-22fe2c658fce"
      },
      "source": [
        "# importar o pandas\n",
        "import pandas as pd\n",
        "\n",
        "# importar dados do CENIPA\n",
        "df = pd.read_csv(\"https://raw.githubusercontent.com/carlosfab/curso_data_science_na_pratica/master/modulo_02/ocorrencias_aviacao.csv\")\n",
        "\n",
        "# extrair value counts da variavel ocorrencia_classificacao\n",
        "data = df.ocorrencia_classificacao.value_counts().to_dict()\n",
        "\n",
        "# plotar gráfico de waffle\n",
        "fig = plt.figure(\n",
        "                FigureClass=Waffle,\n",
        "                rows=5,\n",
        "                columns=15,\n",
        "                colors=(\"#232066\", \"#983D3D\", \"#DCB732\"),\n",
        "                values=data, icons='plane', icon_size=12,\n",
        "                legend={'loc': 'upper left', 'bbox_to_anchor': (1,1)},\n",
        "                icon_legend=True\n",
        "                )\n",
        "fig.set_tight_layout(False)\n",
        "plt.show();"
      ],
      "execution_count": 5,
      "outputs": [
        {
          "output_type": "display_data",
          "data": {
            "image/png": "[encoded data removed]",
            "text/plain": [
              "<Waffle size 432x288 with 1 Axes>"
            ]
          },
          "metadata": {
            "needs_background": "light"
          }
        }
      ]
    },
    {
      "cell_type": "code",
      "metadata": {
        "colab": {
          "base_uri": "https://localhost:8080/",
          "height": 209
        },
        "id": "wmkrpjWUR0EK",
        "outputId": "cfb2e324-f499-4137-d97c-3dd6c1a894aa"
      },
      "source": [
        "# plotar homens e mulheres na sala de aula\n",
        "fig = plt.figure(\n",
        "    FigureClass=Waffle, \n",
        "    rows=8, \n",
        "    values={'Homens': 48, 'Mulheres': 66}, \n",
        "    colors=(\"#232066\", \"#983D3D\"),\n",
        "    legend={'loc': 'upper left', 'bbox_to_anchor': (1, 1)},\n",
        "    icons='child', icon_size=12, \n",
        "    icon_legend=True\n",
        ")\n",
        "\n",
        "fig.set_tight_layout(False)\n",
        "plt.show();"
      ],
      "execution_count": 6,
      "outputs": [
        {
          "output_type": "display_data",
          "data": {
            "image/png": "[encoded data removed]",
            "text/plain": [
              "<Waffle size 432x288 with 1 Axes>"
            ]
          },
          "metadata": {
            "needs_background": "light"
          }
        }
      ]
    }
  ]
}